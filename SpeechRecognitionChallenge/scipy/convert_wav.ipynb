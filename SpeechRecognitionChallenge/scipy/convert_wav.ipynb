{
 "cells": [
  {
   "cell_type": "markdown",
   "metadata": {},
   "source": [
    "## wav파일을 읽어 샘플링하고 이를 npy로 저장하는 코드입니다. \n",
    "\n",
    "각자의 폴더에 맞게 설정하시면 됩니다. \n",
    "scipy를 이용하여 wav파일을 불러오는 것 또한 수정가능합니다. <br />"
   ]
  },
  {
   "cell_type": "code",
   "execution_count": 1,
   "metadata": {},
   "outputs": [],
   "source": [
    "import tensorflow as tf\n",
    "import numpy as np\n",
    "import scipy as sp\n",
    "import  librosa\n",
    "import wave\n",
    "import os"
   ]
  },
  {
   "cell_type": "code",
   "execution_count": 2,
   "metadata": {},
   "outputs": [],
   "source": [
    "default_dir = 'C:/train/audio'\n",
    "default_dir2 = 'C:/trainnpy/audio'\n",
    "category = os.listdir(default_dir)\n",
    "ncategory = len(category)\n",
    "for i in range(ncategory):\n",
    "    category_dir = default_dir+'/'+category[i]\n",
    "    category_dir2 = default_dir2+'/'+category[i]\n",
    "    if not os.path.exists(category_dir2):\n",
    "        os.makedirs(category_dir2)\n",
    "    wav = os.listdir(category_dir)\n",
    "    nwav = len(wav)\n",
    "    for j in range(nwav):\n",
    "        wav_dir = category_dir+'/'+wav[j]\n",
    "        r, d = sp.io.wavfile.read(wav_dir)\n",
    "        temp = wav_dir.replace(\"train\",\"trainnpy\")\n",
    "        temp = temp.replace(\".wav\",\"\")\n",
    "        np.save(temp,d)"
   ]
  },
  {
   "cell_type": "code",
   "execution_count": 3,
   "metadata": {},
   "outputs": [],
   "source": [
    "default_dir = 'C:/test/audio'\n",
    "default_dir2 = 'C:/testnpy/audio'\n",
    "if not os.path.exists(default_dir2):\n",
    "    os.makedirs(default_dir2)\n",
    "    \n",
    "files = os.listdir(default_dir)\n",
    "for i in range(len(files)):\n",
    "    files_dir = default_dir+'/'+files[i]\n",
    "    files_dir2 = default_dir2+'/'+files[i]\n",
    "    r, d = sp.io.wavfile.read(files_dir)\n",
    "    temp = files_dir.replace(\"test\",\"testnpy\")\n",
    "    temp = temp.replace(\".wav\",\"\")\n",
    "    np.save(temp,d)        "
   ]
  },
  {
   "cell_type": "code",
   "execution_count": null,
   "metadata": {},
   "outputs": [],
   "source": []
  }
 ],
 "metadata": {
  "kernelspec": {
   "display_name": "Python 3",
   "language": "python",
   "name": "python3"
  },
  "language_info": {
   "codemirror_mode": {
    "name": "ipython",
    "version": 3
   },
   "file_extension": ".py",
   "mimetype": "text/x-python",
   "name": "python",
   "nbconvert_exporter": "python",
   "pygments_lexer": "ipython3",
   "version": "3.5.2"
  }
 },
 "nbformat": 4,
 "nbformat_minor": 2
}
