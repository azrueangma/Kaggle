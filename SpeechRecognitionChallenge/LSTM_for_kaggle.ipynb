{
 "cells": [
  {
   "cell_type": "markdown",
   "metadata": {},
   "source": [
    "## 음성 인식 Kaggle 챌린지를 위한 가벼운 코드입니다. \n",
    "\n",
    "참고삼아 진행해보시고 좋은 결과를 얻으시길 바랍니다. "
   ]
  },
  {
   "cell_type": "code",
   "execution_count": 1,
   "metadata": {},
   "outputs": [],
   "source": [
    "import tensorflow as tf\n",
    "import numpy as np\n",
    "import random\n",
    "import time\n",
    "import os\n",
    "import itertools\n",
    "import matplotlib.pyplot as plt\n",
    "\n",
    "tf.set_random_seed(0)"
   ]
  },
  {
   "cell_type": "markdown",
   "metadata": {},
   "source": [
    "## 첫 번째 과정 - 경로 지정 <br  />\n",
    "\n",
    "1.npy로 변환한 train 폴더경로 <br  />\n",
    "2.npy로 변환한 test 폴더 경로 <br  />\n",
    "2.label.csv 경로 <br  />\n",
    "3.결과를 저장할 경로"
   ]
  },
  {
   "cell_type": "code",
   "execution_count": 2,
   "metadata": {},
   "outputs": [],
   "source": [
    "train_dir_path = \"C:/trainnpy/audio\"\n",
    "test_dir_path = \"C:/testnpy/audio\"\n",
    "label_file_path = \"label.csv\"\n",
    "saveDir = \"D:/kaggle/\""
   ]
  },
  {
   "cell_type": "markdown",
   "metadata": {},
   "source": [
    "## 두 번째 과정 - train/validation/test 7:1:2나누기 <br  />\n",
    "\n",
    "파일을 읽어 분리하는 부분"
   ]
  },
  {
   "cell_type": "code",
   "execution_count": 3,
   "metadata": {},
   "outputs": [],
   "source": [
    "def search(dirname):\n",
    "    filelist = []\n",
    "    filenames = os.listdir(dirname)\n",
    "    for filename in filenames:\n",
    "        full_filename = os.path.join(dirname, filename)\n",
    "        filelist.append(full_filename.replace('\\\\', '/'))\n",
    "    return filelist"
   ]
  },
  {
   "cell_type": "code",
   "execution_count": 4,
   "metadata": {},
   "outputs": [
    {
     "name": "stdout",
     "output_type": "stream",
     "text": [
      "클래스의 개수 :  30\n"
     ]
    }
   ],
   "source": [
    "train_dirs = search(train_dir_path)\n",
    "trainX = []\n",
    "validationX = []\n",
    "testX = []\n",
    "nclass = len(train_dirs)\n",
    "print(\"클래스의 개수 : \",nclass)"
   ]
  },
  {
   "cell_type": "code",
   "execution_count": 5,
   "metadata": {},
   "outputs": [],
   "source": [
    "random.seed(0)\n",
    "for class_dir in train_dirs:\n",
    "    audio_dirs = search(class_dir)\n",
    "    naudio = len(audio_dirs)\n",
    "    ntrain = int(naudio*0.7)\n",
    "    nvalidation = int(naudio*0.1)\n",
    "    ntest = int(naudio-ntrain-nvalidation)\n",
    "    random.shuffle(audio_dirs)\n",
    "    for i in range(naudio):\n",
    "        if i <ntrain:\n",
    "            trainX.append(audio_dirs[i])\n",
    "        elif i>=ntrain and i<(ntrain+nvalidation):\n",
    "            validationX.append(audio_dirs[i])\n",
    "        elif i>=(ntrain + nvalidation):\n",
    "                        testX.append(audio_dirs[i])"
   ]
  },
  {
   "cell_type": "markdown",
   "metadata": {},
   "source": [
    "나중을 위해 파일 경로를 저장 "
   ]
  },
  {
   "cell_type": "code",
   "execution_count": 6,
   "metadata": {},
   "outputs": [],
   "source": [
    "np.savetxt(saveDir+\"validationX.csv\",validationX, fmt='%s',delimiter=',')\n",
    "np.savetxt(saveDir+\"testX.csv\",testX, fmt='%s',delimiter=',')"
   ]
  },
  {
   "cell_type": "code",
   "execution_count": 7,
   "metadata": {},
   "outputs": [
    {
     "name": "stdout",
     "output_type": "stream",
     "text": [
      "The number of train samples :  45292\n",
      "The number of validation samples :  6459\n",
      "The number of test1X samples :  12970\n",
      "\n"
     ]
    }
   ],
   "source": [
    "print(\"=== 분류 결과 ===\")\n",
    "total_train_num = len(trainX)\n",
    "total_validation_num = len(validationX)\n",
    "total_testX_num = len(testX)\n",
    "print(\"The number of train samples : \",total_train_num)\n",
    "print(\"The number of validation samples : \",total_validation_num)\n",
    "print(\"The number of test1X samples : \",total_testX_num)\n",
    "print()"
   ]
  },
  {
   "cell_type": "markdown",
   "metadata": {},
   "source": [
    "## npy로 된 audio파일은 다음과 같이 되어 있습니다. <br  />\n",
    "\n",
    "전처리가 필요합니다. "
   ]
  },
  {
   "cell_type": "code",
   "execution_count": 8,
   "metadata": {},
   "outputs": [
    {
     "data": {
      "image/png": "[encoded data removed]",
      "text/plain": [
       "<matplotlib.figure.Figure at 0x1fd9c5740b8>"
      ]
     },
     "metadata": {},
     "output_type": "display_data"
    }
   ],
   "source": [
    "data = np.load(trainX[0])\n",
    "plt.plot(data)\n",
    "plt.show()"
   ]
  },
  {
   "cell_type": "markdown",
   "metadata": {},
   "source": [
    "## 세 번째 과정 - 라벨을 만듭니다. <br  />"
   ]
  },
  {
   "cell_type": "code",
   "execution_count": 9,
   "metadata": {},
   "outputs": [],
   "source": [
    "keys=[]\n",
    "labels=[]\n",
    "for line in open(label_file_path):\n",
    "    fields = line.rstrip().split(',')\n",
    "    keys.append(fields[0])\n",
    "    label = int(fields[1])\n",
    "    labels.append(label)\n",
    "\n",
    "label_dict = dict(itertools.zip_longest(keys,labels))"
   ]
  },
  {
   "cell_type": "markdown",
   "metadata": {},
   "source": [
    "## mini batch를 만들기 위한 함수들입니다. <br  />"
   ]
  },
  {
   "cell_type": "code",
   "execution_count": 10,
   "metadata": {},
   "outputs": [],
   "source": [
    "def zero_pad(A, max_length):\n",
    "    arr = np.zeros(max_length)\n",
    "    arr[:len(A)] = A\n",
    "    return arr"
   ]
  },
  {
   "cell_type": "code",
   "execution_count": 11,
   "metadata": {},
   "outputs": [],
   "source": [
    "def make_batch(data, label_dict):\n",
    "    max_length = 16000\n",
    "    nbatch = len(data)\n",
    "    \n",
    "    for i in range(nbatch):\n",
    "        a = data[i]\n",
    "        temp_label = a.split('/')[-2]\n",
    "        temp_label = np.array([[label_dict[temp_label]]])\n",
    "        temp_feature = np.load(a)\n",
    "        temp_feature = zero_pad(temp_feature,max_length)\n",
    "        temp_feature = np.expand_dims(temp_feature,axis=0)\n",
    "        temp_feature = np.expand_dims(temp_feature,axis=2)\n",
    "        if i == 0:\n",
    "            features = temp_feature\n",
    "            labels = temp_label\n",
    "        else:\n",
    "            features = np.append(features, temp_feature, axis=0)\n",
    "            labels = np.append(labels, temp_label,axis=0)\n",
    "    return features, labels"
   ]
  },
  {
   "cell_type": "markdown",
   "metadata": {},
   "source": [
    "## 네 번째 과정 - 모델을 만듭니다. <br  />"
   ]
  },
  {
   "cell_type": "code",
   "execution_count": 12,
   "metadata": {},
   "outputs": [],
   "source": [
    "class Model:\n",
    "    def __init__(self,sess,name):\n",
    "        self.sess = sess\n",
    "        self.name = name\n",
    "        self._build_net()\n",
    "        \n",
    "    def length(self, sequence):\n",
    "        used = tf.sign(tf.reduce_max(tf.abs(sequence), 2))\n",
    "        length = tf.reduce_sum(used, 1)\n",
    "        length = tf.cast(length, tf.int32)\n",
    "        return length\n",
    "    \n",
    "    def _last_relevant(self, output, length):\n",
    "        batch_size = tf.shape(output)[0]\n",
    "        max_length = tf.shape(output)[1]\n",
    "        output_size = tf.shape(output)[2]\n",
    "        index = tf.range(0, batch_size) * max_length + (length - 1)\n",
    "        flat = tf.reshape(output, [-1, output_size])\n",
    "        relevant = tf.gather(flat, index)\n",
    "        return relevant\n",
    "    \n",
    "    def _build_net(self):\n",
    "        with tf.variable_scope(self.name):\n",
    "            self.X = tf.placeholder(tf.float32, [None, None, 1], name='X')\n",
    "            self.Y = tf.placeholder(tf.int32, [None, 1], name='Y')\n",
    "            self.learning_rate = tf.placeholder(tf.float32,name = 'learning_rate')\n",
    "            self.Y_one_hot = tf.reshape(tf.one_hot(self.Y, 30), [-1, 30])\n",
    "            len_X=self.length(self.X)\n",
    "\n",
    "            cell = tf.contrib.rnn.LSTMCell(num_units = 100, initializer = tf.glorot_uniform_initializer(seed=0), state_is_tuple=True)\n",
    "            outputs, _states = tf.nn.dynamic_rnn(cell, self.X, dtype=tf.float32, sequence_length=len_X)\n",
    "            last = self._last_relevant(outputs, len_X)\n",
    "\n",
    "            W1 = tf.Variable(tf.truncated_normal([100, 30], seed = 0, stddev=0.01),name='W1')\n",
    "            b1 = tf.Variable(tf.constant(0.1, shape=[30]),name='b1')\n",
    "\n",
    "            self.logits = tf.add(tf.matmul(last,W1),b1,name='logits')\n",
    "            self.hypothesis = tf.nn.softmax(self.logits, name='hypothesis')\n",
    "            self.cost = -tf.reduce_mean(self.Y_one_hot * tf.log(self.hypothesis), name='cost')\n",
    "            self.optimizer = tf.train.AdamOptimizer(learning_rate=self.learning_rate).minimize(self.cost)\n",
    "\n",
    "            self.prediction = tf.argmax(self.hypothesis, 1)\n",
    "            self.correct_prediction = tf.equal(self.prediction, tf.argmax(self.Y_one_hot, 1))\n",
    "            self.accuracy = tf.reduce_sum(tf.cast(self.correct_prediction, tf.float32), name='accuracy')\n",
    "\n",
    "    def prediction(self, x_test):\n",
    "        return self.sess.run(self.prediction, feed_dict = {self.X:x_test})\n",
    "\n",
    "    def train(self, x_train, y_train, u):\n",
    "        return sess.run([self.accuracy, self.cost, self.optimizer], feed_dict={self.X: x_train, self.Y: y_train, self.learning_rate: u})\n"
   ]
  },
  {
   "cell_type": "markdown",
   "metadata": {},
   "source": [
    "## 다섯 번째 과정 - 실행 <br/>"
   ]
  },
  {
   "cell_type": "code",
   "execution_count": null,
   "metadata": {},
   "outputs": [
    {
     "name": "stderr",
     "output_type": "stream",
     "text": [
      "d:\\python35\\lib\\site-packages\\tensorflow\\python\\ops\\gradients_impl.py:96: UserWarning: Converting sparse IndexedSlices to a dense Tensor of unknown shape. This may consume a large amount of memory.\n",
      "  \"Converting sparse IndexedSlices to a dense Tensor of unknown shape. \"\n"
     ]
    }
   ],
   "source": [
    "sess = tf.Session()\n",
    "model_name = 'model1'\n",
    "m = Model(sess, model_name)"
   ]
  },
  {
   "cell_type": "markdown",
   "metadata": {},
   "source": [
    "### cpu버전에서 진행하였기 때문에 \n",
    "### 간단한 테스트를 위해 total_epochs = 1\n",
    "### batch_size = 10"
   ]
  },
  {
   "cell_type": "code",
   "execution_count": null,
   "metadata": {},
   "outputs": [
    {
     "name": "stdout",
     "output_type": "stream",
     "text": [
      "Learning start\n",
      "total_step :  4529\n",
      "Step : 0, accuracy : 0.00%, cost : 0.113262\n"
     ]
    }
   ],
   "source": [
    "init = tf.global_variables_initializer()\n",
    "sess.run(init)\n",
    "\n",
    "total_epochs = 1\n",
    "batch_size = 10\n",
    "total_step = int(total_train_num/batch_size)\n",
    "train_size = total_step*batch_size\n",
    "init_learning_rate = 0.001\n",
    "u = init_learning_rate \n",
    "trainX = np.array(trainX)\n",
    "print(\"Learning start\")\n",
    "print(\"total_step : \",total_step)\n",
    "for epoch in range(total_epochs):\n",
    "    mask = np.random.permutation(total_train_num)\n",
    "    trainX = trainX[mask]\n",
    "    avg_acc = 0\n",
    "    avg_cost = 0\n",
    "    for step in range(total_step):\n",
    "        data = trainX[step*batch_size:(step+1)*batch_size]\n",
    "        batchX, batchY = make_batch(data, label_dict)\n",
    "        a, c, _ = m.train(batchX, batchY, u)\n",
    "        avg_acc += a\n",
    "        avg_cost +=c\n",
    "        if step%100 == 0:\n",
    "            print(\"Step : {}, accuracy : {:.2%}, cost : {:.6f}\".format(step, a/batch_size, c))\n",
    "    avg_acc = avg_acc / (total_step*batch_size)\n",
    "    avg_cost = avg_cost / total_step\n",
    "    print(\"Epoch : {}, accuracy : {:.2%}, cost : {:.6f}\".format(step, avg_acc, avg_cost))"
   ]
  },
  {
   "cell_type": "markdown",
   "metadata": {},
   "source": [
    "## test와 validation은 각자!!\n",
    "## 좋은 결과를 바랍니다. \n",
    "## by Eul"
   ]
  }
 ],
 "metadata": {
  "kernelspec": {
   "display_name": "Python 3",
   "language": "python",
   "name": "python3"
  },
  "language_info": {
   "codemirror_mode": {
    "name": "ipython",
    "version": 3
   },
   "file_extension": ".py",
   "mimetype": "text/x-python",
   "name": "python",
   "nbconvert_exporter": "python",
   "pygments_lexer": "ipython3",
   "version": "3.5.2"
  }
 },
 "nbformat": 4,
 "nbformat_minor": 2
}
